{
  "nbformat": 4,
  "nbformat_minor": 0,
  "metadata": {
    "colab": {
      "provenance": [],
      "authorship_tag": "ABX9TyNdKv08or6LSe7s+QBs2BaM",
      "include_colab_link": true
    },
    "kernelspec": {
      "name": "python3",
      "display_name": "Python 3"
    },
    "language_info": {
      "name": "python"
    }
  },
  "cells": [
    {
      "cell_type": "markdown",
      "metadata": {
        "id": "view-in-github",
        "colab_type": "text"
      },
      "source": [
        "<a href=\"https://colab.research.google.com/github/varshith-sriramoju/IBM-Pratice/blob/main/DataScienceEcosystem.ipynb\" target=\"_parent\"><img src=\"https://colab.research.google.com/assets/colab-badge.svg\" alt=\"Open In Colab\"/></a>"
      ]
    },
    {
      "cell_type": "markdown",
      "source": [],
      "metadata": {
        "id": "SIGBeo7i1kCl"
      }
    },
    {
      "cell_type": "markdown",
      "source": [
        "#Data Science Tools and Ecosystem"
      ],
      "metadata": {
        "id": "tEmfV7mS2GOJ"
      }
    },
    {
      "cell_type": "code",
      "source": [
        "print(\"In this notebook, Data Science Tools and Ecosystem are summarized.\")"
      ],
      "metadata": {
        "colab": {
          "base_uri": "https://localhost:8080/"
        },
        "id": "yVrnu0_I3vpY",
        "outputId": "24a99d1d-bfb2-44e9-e3af-539337d521b3"
      },
      "execution_count": 7,
      "outputs": [
        {
          "output_type": "stream",
          "name": "stdout",
          "text": [
            "In this notebook, Data Science Tools and Ecosystem are summarized.\n"
          ]
        }
      ]
    },
    {
      "cell_type": "markdown",
      "source": [
        "Some of the popular languages that Data Scientists use are:\n",
        "1. Python\n",
        "2. R\n",
        "3. Julia"
      ],
      "metadata": {
        "id": "468rln7i_b2V"
      }
    },
    {
      "cell_type": "markdown",
      "source": [
        "Some of the commonly used libraries used by Data Scientists include:\n",
        "1. Sci-Kit Learn\n",
        "2. pandas\n",
        "3. numpy"
      ],
      "metadata": {
        "id": "Tgecih533BLL"
      }
    },
    {
      "cell_type": "markdown",
      "source": [
        " Data Science Tools\n",
        "\n",
        "| Tools    |\n",
        "|----------|\n",
        "| Jupyter  |\n",
        "| Colab    |\n",
        "| Anaconda |"
      ],
      "metadata": {
        "id": "ZHXxprci4jaY"
      }
    },
    {
      "cell_type": "markdown",
      "source": [
        "## Arithmetic Expression Examples\n",
        "\n",
        "### Below are a few examples of evaluating arithmetic expressions in Python."
      ],
      "metadata": {
        "id": "fZ7dB97965Ga"
      }
    },
    {
      "cell_type": "code",
      "source": [
        "a=(3*4)+5\n",
        "print(\"This a simple arithmetic expression to mutiply then add integers \"+str(a))"
      ],
      "metadata": {
        "colab": {
          "base_uri": "https://localhost:8080/"
        },
        "id": "ifXWoV6J7A_e",
        "outputId": "6b46910a-7425-4a7b-fc2c-43133a83c06b"
      },
      "execution_count": 9,
      "outputs": [
        {
          "output_type": "stream",
          "name": "stdout",
          "text": [
            "This a simple arithmetic expression to mutiply then add integers 17\n"
          ]
        }
      ]
    },
    {
      "cell_type": "code",
      "source": [
        "a=200/60\n",
        "print(\"This will convert 200 minutes to hours by diving by 60 \"+str(a))"
      ],
      "metadata": {
        "colab": {
          "base_uri": "https://localhost:8080/"
        },
        "id": "zJaQpoRT7S86",
        "outputId": "397d7512-4c16-4a65-dc9b-ee2369fa40ff"
      },
      "execution_count": 10,
      "outputs": [
        {
          "output_type": "stream",
          "name": "stdout",
          "text": [
            "This will convert 200 minutes to hours by diving by 60 3.3333333333333335\n"
          ]
        }
      ]
    },
    {
      "cell_type": "markdown",
      "source": [
        "#Objectives:\n",
        "####List popular languages for Data Science\n",
        "- Python\n",
        "- R\n",
        "- Julia"
      ],
      "metadata": {
        "id": "vEB_CgF-7lQj"
      }
    },
    {
      "cell_type": "markdown",
      "source": [
        "##Author\n",
        "Sriramoju Varshith"
      ],
      "metadata": {
        "id": "BVMc3UA58Wv5"
      }
    }
  ]
}